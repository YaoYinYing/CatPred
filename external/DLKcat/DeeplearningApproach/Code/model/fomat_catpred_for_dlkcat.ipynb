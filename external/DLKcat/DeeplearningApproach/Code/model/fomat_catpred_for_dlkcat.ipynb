{
 "cells": [
  {
   "cell_type": "code",
   "execution_count": 2,
   "id": "3ec5bd5a-bbea-4290-999b-bb8f986743a1",
   "metadata": {},
   "outputs": [],
   "source": [
    "import pandas as pd\n",
    "\n",
    "PARAMETER = 'kcat'\n",
    "DATA_PATH = f'/home/ubuntu/mychemprop/CatPred-DB/data/processed/splits_wpdbs/{PARAMETER}-random_trainvaltest.csv'\n",
    "\n",
    "df = pd.read_csv(DATA_PATH)"
   ]
  },
  {
   "cell_type": "markdown",
   "id": "0f60898d-95e0-457d-88f7-9d981bc6af18",
   "metadata": {},
   "source": [
    "The format required for DLKCat is a json file with each entry formatted in this way:\n",
    "\n",
    "{'ECNumber': '4.2.3.4',\n",
    " 'Organism': 'Actinidia chinensis',\n",
    " 'Smiles': 'C(C(C(C(COP(=O)(O)O)O)O)O)C(=O)C(=O)O',\n",
    " 'Substrate': '3-deoxy-D-arabino-heptulosonic acid 7-phosphate',\n",
    " 'Sequence': 'MAAFSLSAKQILSPSTHRPSLSKTTTADSSLRFRNPHSLSLRCSSLSSSSNVGRTRLMRASASSTAPVMDTSPTKAVSSAPTIVDVDLGDRSYPIYIGSGLLDQPDLLQRHVHGKRVLVVTNSTVAPIYLDKVVGALTNGNPNVSVESVILPDGEKYKNMDTLMKVFDKAIESRLDRRCTFVALGGGVIGDMCGYAAASFLRGVNFIQIPTTVMAQVDSSVGGKTGINHRLGKNLIGAFYQPQCVLIDTDTLNTLPDRELASGLAEVVKYGLIRDANFFEWQEKNMPALMARDPSALAYAIKRSCENKAEVVSLDEKESGLRATLNLGHTFGHAIETGFGYGQWLHGEAVAAGMVMAVDMSYRLGWIDESIVNRAHNILQQAKLPTAPPETMTVEMFKSVMAVDKKVADGLLRLILLKGPLGNCVFTGDYDRKALDETLHAFCKS',\n",
    " 'Value': '20.1',\n",
    " 'Unit': 's^(-1)'}\n",
    "\n",
    "# Format "
   ]
  },
  {
   "cell_type": "code",
   "execution_count": 11,
   "id": "e6a3c778-dbce-4b76-9ab9-ef84d005b409",
   "metadata": {},
   "outputs": [],
   "source": [
    "import numpy as np"
   ]
  },
  {
   "cell_type": "code",
   "execution_count": 37,
   "id": "5658a208-d6c7-4b6f-af28-868527a93dac",
   "metadata": {},
   "outputs": [],
   "source": [
    "data = []\n",
    "smilist = set()\n",
    "\n",
    "for ind, row in df.iterrows():\n",
    "    ec = row.ec\n",
    "    org = row.taxonomy_id\n",
    "    smis = row.reactant_smiles.split('.')\n",
    "    smi = \n",
    "    kcat = np.power(10, row.log10kcat_max)\n",
    "    seq = row.sequence\n",
    "    unit = 's^(-1)'\n",
    "    entry = {'ECNumber': ec, 'Organism': str(int(org)), 'Smiles': smi, 'Sequence': seq, \n",
    "            'Value': str(kcat), 'Unit': unit}\n",
    "    data.append(entry)\n",
    "    \n",
    "    milist.add(smi)"
   ]
  },
  {
   "cell_type": "code",
   "execution_count": 38,
   "id": "987a6d4d-81d3-49b0-ac5e-3d6d8c48e273",
   "metadata": {},
   "outputs": [],
   "source": [
    "smilist = list(smilist)"
   ]
  },
  {
   "cell_type": "code",
   "execution_count": 39,
   "id": "20dc918f-bf03-4d3f-bcf5-494160ad66d8",
   "metadata": {},
   "outputs": [
    {
     "data": {
      "text/plain": [
       "9853"
      ]
     },
     "execution_count": 39,
     "metadata": {},
     "output_type": "execute_result"
    }
   ],
   "source": [
    "len(smilist)"
   ]
  },
  {
   "cell_type": "code",
   "execution_count": 44,
   "id": "4c054cc5-c322-4a49-8cc9-c37cef24c422",
   "metadata": {},
   "outputs": [],
   "source": [
    "smis = row.reactant_smiles.split('.')"
   ]
  },
  {
   "cell_type": "code",
   "execution_count": 47,
   "id": "ea1a1e8e-32c9-4e92-aa05-0a6ae915e598",
   "metadata": {},
   "outputs": [],
   "source": [
    "cofactors = pd.read_csv('cofactors.csv')"
   ]
  },
  {
   "cell_type": "code",
   "execution_count": 50,
   "id": "afcc25fd-406e-42a6-a764-af850940e707",
   "metadata": {},
   "outputs": [],
   "source": [
    "kegg = pd.read_pickle('./KEGG_substrate_df.pkl')"
   ]
  },
  {
   "cell_type": "code",
   "execution_count": 49,
   "id": "c9fbb7c4-ea71-4c2e-a5d2-ddeaf261c356",
   "metadata": {},
   "outputs": [
    {
     "data": {
      "text/plain": [
       "0     C00001\n",
       "1     C00002\n",
       "2     C00003\n",
       "3     C00004\n",
       "4     C00005\n",
       "5     C00006\n",
       "6     C00007\n",
       "7     C00008\n",
       "8     C00009\n",
       "9     C00010\n",
       "10    C00011\n",
       "11    C00013\n",
       "12    C00015\n",
       "13    C00016\n",
       "14    C00019\n",
       "15    C00020\n",
       "16    C00035\n",
       "17    C00044\n",
       "18    C00063\n",
       "19    C00075\n",
       "20    C00080\n",
       "21    C00081\n",
       "22    C00104\n",
       "23    C00105\n",
       "24    C00112\n",
       "25    C00144\n",
       "26    C00055\n",
       "27    C01352\n",
       "28    C00131\n",
       "29    C00206\n",
       "30    C00399\n",
       "31    C00390\n",
       "32    C00138\n",
       "33    C00139\n",
       "Name: KEGG_ID, dtype: object"
      ]
     },
     "execution_count": 49,
     "metadata": {},
     "output_type": "execute_result"
    }
   ],
   "source": [
    "cofactors.KEGG_ID"
   ]
  },
  {
   "cell_type": "code",
   "execution_count": null,
   "id": "ad50eca9-c2f9-42d9-b724-f49222f837a0",
   "metadata": {},
   "outputs": [],
   "source": []
  }
 ],
 "metadata": {
  "kernelspec": {
   "display_name": "Python 3",
   "language": "python",
   "name": "python3"
  },
  "language_info": {
   "codemirror_mode": {
    "name": "ipython",
    "version": 3
   },
   "file_extension": ".py",
   "mimetype": "text/x-python",
   "name": "python",
   "nbconvert_exporter": "python",
   "pygments_lexer": "ipython3",
   "version": "3.8.10"
  }
 },
 "nbformat": 4,
 "nbformat_minor": 5
}
