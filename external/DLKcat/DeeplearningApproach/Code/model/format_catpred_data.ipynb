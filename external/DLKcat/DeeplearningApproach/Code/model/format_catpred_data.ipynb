{
 "cells": [
  {
   "cell_type": "code",
   "execution_count": 1,
   "id": "7c83bb10-026e-450e-8906-d6d0ddb8cf7b",
   "metadata": {},
   "outputs": [
    {
     "name": "stderr",
     "output_type": "stream",
     "text": [
      "/home/ubuntu/.local/lib/python3.8/site-packages/pandas/core/computation/expressions.py:20: UserWarning: Pandas requires version '2.7.3' or newer of 'numexpr' (version '2.7.1' currently installed).\n",
      "  from pandas.core.computation.check import NUMEXPR_INSTALLED\n"
     ]
    }
   ],
   "source": [
    "import pandas as pd\n",
    "\n",
    "PARAMETER = 'kcat'\n",
    "DATA_PATH = f'/home/ubuntu/mychemprop/CatPred-DB/data/processed/splits_wpdbs/{PARAMETER}-random_trainvaltest.csv'\n",
    "\n",
    "df = pd.read_csv(DATA_PATH)"
   ]
  },
  {
   "cell_type": "markdown",
   "id": "9e1da463-0738-4ac0-abb0-0abc0e043acc",
   "metadata": {},
   "source": [
    "The format required for DLKCat is a json file with each entry formatted in this way:\n",
    "\n",
    "{'ECNumber': '4.2.3.4',\n",
    " 'Organism': 'Actinidia chinensis',\n",
    " 'Smiles': 'C(C(C(C(COP(=O)(O)O)O)O)O)C(=O)C(=O)O',\n",
    " 'Substrate': '3-deoxy-D-arabino-heptulosonic acid 7-phosphate',\n",
    " 'Sequence': 'MAAFSLSAKQILSPSTHRPSLSKTTTADSSLRFRNPHSLSLRCSSLSSSSNVGRTRLMRASASSTAPVMDTSPTKAVSSAPTIVDVDLGDRSYPIYIGSGLLDQPDLLQRHVHGKRVLVVTNSTVAPIYLDKVVGALTNGNPNVSVESVILPDGEKYKNMDTLMKVFDKAIESRLDRRCTFVALGGGVIGDMCGYAAASFLRGVNFIQIPTTVMAQVDSSVGGKTGINHRLGKNLIGAFYQPQCVLIDTDTLNTLPDRELASGLAEVVKYGLIRDANFFEWQEKNMPALMARDPSALAYAIKRSCENKAEVVSLDEKESGLRATLNLGHTFGHAIETGFGYGQWLHGEAVAAGMVMAVDMSYRLGWIDESIVNRAHNILQQAKLPTAPPETMTVEMFKSVMAVDKKVADGLLRLILLKGPLGNCVFTGDYDRKALDETLHAFCKS',\n",
    " 'Value': '20.1',\n",
    " 'Unit': 's^(-1)'}"
   ]
  },
  {
   "cell_type": "markdown",
   "id": "52bd011b-b40d-4d2d-98ae-1e764db80847",
   "metadata": {},
   "source": [
    "## Format "
   ]
  },
  {
   "cell_type": "code",
   "execution_count": 9,
   "id": "ed51df81-0e70-4cc0-8431-71e5cda894d9",
   "metadata": {},
   "outputs": [],
   "source": [
    "data = {}\n",
    "\n",
    "for ind, row in df.iterrows():\n",
    "    break"
   ]
  },
  {
   "cell_type": "code",
   "execution_count": 5,
   "id": "b81acbb5-0af3-4f08-9eee-dfc213438bcd",
   "metadata": {},
   "outputs": [
    {
     "data": {
      "text/plain": [
       "{'ECNumber': '4.2.3.4',\n",
       " 'Organism': 'Actinidia chinensis',\n",
       " 'Smiles': 'C(C(C(C(COP(=O)(O)O)O)O)O)C(=O)C(=O)O',\n",
       " 'Substrate': '3-deoxy-D-arabino-heptulosonic acid 7-phosphate',\n",
       " 'Sequence': 'MAAFSLSAKQILSPSTHRPSLSKTTTADSSLRFRNPHSLSLRCSSLSSSSNVGRTRLMRASASSTAPVMDTSPTKAVSSAPTIVDVDLGDRSYPIYIGSGLLDQPDLLQRHVHGKRVLVVTNSTVAPIYLDKVVGALTNGNPNVSVESVILPDGEKYKNMDTLMKVFDKAIESRLDRRCTFVALGGGVIGDMCGYAAASFLRGVNFIQIPTTVMAQVDSSVGGKTGINHRLGKNLIGAFYQPQCVLIDTDTLNTLPDRELASGLAEVVKYGLIRDANFFEWQEKNMPALMARDPSALAYAIKRSCENKAEVVSLDEKESGLRATLNLGHTFGHAIETGFGYGQWLHGEAVAAGMVMAVDMSYRLGWIDESIVNRAHNILQQAKLPTAPPETMTVEMFKSVMAVDKKVADGLLRLILLKGPLGNCVFTGDYDRKALDETLHAFCKS',\n",
       " 'Value': '20.1',\n",
       " 'Unit': 's^(-1)'}"
      ]
     },
     "execution_count": 5,
     "metadata": {},
     "output_type": "execute_result"
    }
   ],
   "source": [
    "data[0]"
   ]
  },
  {
   "cell_type": "code",
   "execution_count": null,
   "id": "6dd72138-afcf-46fe-b379-5c1e9d72032f",
   "metadata": {},
   "outputs": [],
   "source": []
  }
 ],
 "metadata": {
  "kernelspec": {
   "display_name": "Python 3",
   "language": "python",
   "name": "python3"
  },
  "language_info": {
   "codemirror_mode": {
    "name": "ipython",
    "version": 3
   },
   "file_extension": ".py",
   "mimetype": "text/x-python",
   "name": "python",
   "nbconvert_exporter": "python",
   "pygments_lexer": "ipython3",
   "version": "3.8.10"
  }
 },
 "nbformat": 4,
 "nbformat_minor": 5
}
